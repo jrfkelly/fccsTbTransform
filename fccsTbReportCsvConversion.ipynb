{
 "cells": [
  {
   "cell_type": "code",
   "execution_count": 96,
   "metadata": {},
   "outputs": [],
   "source": [
    "#import modules:\n",
    "import pandas as pd\n",
    "import numpy as np\n",
    "import glob, os, time"
   ]
  },
  {
   "cell_type": "code",
   "execution_count": 97,
   "metadata": {},
   "outputs": [],
   "source": [
    "#time the process\n",
    "start = time.time()"
   ]
  },
  {
   "cell_type": "code",
   "execution_count": 98,
   "metadata": {},
   "outputs": [
    {
     "data": {
      "text/plain": [
       "['C:\\\\Users\\\\kellyjo00\\\\Box\\\\FCCS Reporting\\\\Jun-20\\\\FCCS TBs\\\\20200513_TB_Contribution_Pivot_EUR_FY18_ALL.csv',\n",
       " 'C:\\\\Users\\\\kellyjo00\\\\Box\\\\FCCS Reporting\\\\Jun-20\\\\FCCS TBs\\\\20200624_TB_Contribution_Pivot_EUR_FY19ALL.csv',\n",
       " 'C:\\\\Users\\\\kellyjo00\\\\Box\\\\FCCS Reporting\\\\Jun-20\\\\FCCS TBs\\\\20200624_TB_Contribution_Pivot_EUR_FY19_P0.csv',\n",
       " 'C:\\\\Users\\\\kellyjo00\\\\Box\\\\FCCS Reporting\\\\Jun-20\\\\FCCS TBs\\\\20200713_TB_Contribution_Pivot_EUR_FY20_P0.csv',\n",
       " 'C:\\\\Users\\\\kellyjo00\\\\Box\\\\FCCS Reporting\\\\Jun-20\\\\FCCS TBs\\\\20200713_TB_Contribution_Pivot_EUR_FY20_P1-P6.csv']"
      ]
     },
     "execution_count": 98,
     "metadata": {},
     "output_type": "execute_result"
    }
   ],
   "source": [
    "#define variables - update these each month:\n",
    "inpath = (r'C:\\Users\\kellyjo00\\Box\\FCCS Reporting\\Jun-20\\FCCS TBs')\n",
    "outpath = (r'C:\\Users\\kellyjo00\\Box\\FCCS Reporting\\Jun-20\\Python TBs')\n",
    "all_filenames = [i for i in glob.glob(os.path.join(inpath,\"*.csv\"))]\n",
    "all_filenames"
   ]
  },
  {
   "cell_type": "code",
   "execution_count": 99,
   "metadata": {},
   "outputs": [
    {
     "data": {
      "text/plain": [
       "(539828, 13)"
      ]
     },
     "execution_count": 99,
     "metadata": {},
     "output_type": "execute_result"
    }
   ],
   "source": [
    "#read csv files and create initial DataFrame\n",
    "df = pd.concat([pd.read_csv(f, \n",
    "                            header=0,\n",
    "                            engine='c',\n",
    "                            usecols=[0,1,2,5,7,8,9,10,11,12,13,14,17], \n",
    "                            names=['Years', 'Period','Entity','Account','Movement','Intercompany','Data Source','Project Code','Cost Center','Ref Code','Product Line','Functional Currency','3 Contribution EUR'],\n",
    "                            na_values=['-']\n",
    "                           ) for f in all_filenames], ignore_index=True)\n",
    "df.shape"
   ]
  },
  {
   "cell_type": "code",
   "execution_count": 100,
   "metadata": {},
   "outputs": [
    {
     "data": {
      "text/plain": [
       "(539828, 13)"
      ]
     },
     "execution_count": 100,
     "metadata": {},
     "output_type": "execute_result"
    }
   ],
   "source": [
    "# convert all '3 Contribution EUR' values to nunmeric - \"errors='coerce'\" converts non-numeric values to NaN\n",
    "try:\n",
    "    cols = ['3 Contribution EUR']\n",
    "    df[cols] = df[cols].apply(pd.to_numeric, errors='coerce', axis=1)\n",
    "except KeyError:\n",
    "    print(\"No non-numeric values found\")\n",
    "df.shape"
   ]
  },
  {
   "cell_type": "code",
   "execution_count": 101,
   "metadata": {},
   "outputs": [
    {
     "data": {
      "text/plain": [
       "(539828, 13)"
      ]
     },
     "execution_count": 101,
     "metadata": {},
     "output_type": "execute_result"
    }
   ],
   "source": [
    "#drop NaN values from '3 Contribution EUR'\n",
    "df = df.dropna(axis='rows')\n",
    "df.shape"
   ]
  },
  {
   "cell_type": "code",
   "execution_count": 102,
   "metadata": {},
   "outputs": [
    {
     "data": {
      "text/plain": [
       "(539828, 14)"
      ]
     },
     "execution_count": 102,
     "metadata": {},
     "output_type": "execute_result"
    }
   ],
   "source": [
    "#add 'Value' Column in order to create pivot table properly\n",
    "df['Value']='Balance'\n",
    "df.shape"
   ]
  },
  {
   "cell_type": "code",
   "execution_count": 103,
   "metadata": {},
   "outputs": [
    {
     "data": {
      "text/plain": [
       "(89796, 13)"
      ]
     },
     "execution_count": 103,
     "metadata": {},
     "output_type": "execute_result"
    }
   ],
   "source": [
    "#pivot the data in the previously created DataFrame by year and period (Consol DF)\n",
    "consol_df = df.pivot_table(\n",
    "    values='3 Contribution EUR', \n",
    "    index=['Years','Entity','Account','Movement','Intercompany','Data Source','Project Code','Cost Center','Ref Code','Product Line','Functional Currency'],\n",
    "    columns=['Value','Period'],\n",
    "    aggfunc='sum', fill_value=0)\n",
    "consol_df.shape"
   ]
  },
  {
   "cell_type": "code",
   "execution_count": 104,
   "metadata": {},
   "outputs": [
    {
     "data": {
      "text/plain": [
       "(89796, 25)"
      ]
     },
     "execution_count": 104,
     "metadata": {},
     "output_type": "execute_result"
    }
   ],
   "source": [
    "#add the calculated movement columns\n",
    "consol_df['Movement','P1'] = (consol_df['Balance','P1'] - consol_df['Balance','P0'])\n",
    "consol_df['Movement','P2'] = (consol_df['Balance','P2'] - consol_df['Balance','P1'])\n",
    "consol_df['Movement','P3'] = (consol_df['Balance','P3'] - consol_df['Balance','P2'])\n",
    "consol_df['Movement','P4'] = (consol_df['Balance','P4'] - consol_df['Balance','P3'])\n",
    "consol_df['Movement','P5'] = (consol_df['Balance','P5'] - consol_df['Balance','P4'])\n",
    "consol_df['Movement','P6'] = (consol_df['Balance','P6'] - consol_df['Balance','P5'])\n",
    "consol_df['Movement','P7'] = (consol_df['Balance','P7'] - consol_df['Balance','P6'])\n",
    "consol_df['Movement','P8'] = (consol_df['Balance','P8'] - consol_df['Balance','P7'])\n",
    "consol_df['Movement','P9'] = (consol_df['Balance','P9'] - consol_df['Balance','P8'])\n",
    "consol_df['Movement','P10'] = (consol_df['Balance','P10'] - consol_df['Balance','P9'])\n",
    "consol_df['Movement','P11'] = (consol_df['Balance','P11'] - consol_df['Balance','P10'])\n",
    "consol_df['Movement','P12'] = (consol_df['Balance','P12'] - consol_df['Balance','P11'])\n",
    "\n",
    "consol_df.shape"
   ]
  },
  {
   "cell_type": "code",
   "execution_count": 105,
   "metadata": {},
   "outputs": [
    {
     "data": {
      "text/plain": [
       "(89796, 24)"
      ]
     },
     "execution_count": 105,
     "metadata": {},
     "output_type": "execute_result"
    }
   ],
   "source": [
    "#drop P0 from Balances\n",
    "consol_df.drop('P0', axis=1, level=1, inplace=True)\n",
    "consol_df.shape"
   ]
  },
  {
   "cell_type": "code",
   "execution_count": 106,
   "metadata": {},
   "outputs": [
    {
     "data": {
      "text/plain": [
       "(1077552, 2)"
      ]
     },
     "execution_count": 106,
     "metadata": {},
     "output_type": "execute_result"
    }
   ],
   "source": [
    "#stack Periods\n",
    "stacked_df = consol_df.stack(1)\n",
    "stacked_df.shape"
   ]
  },
  {
   "cell_type": "code",
   "execution_count": 107,
   "metadata": {},
   "outputs": [],
   "source": [
    "#export to csv\n",
    "stacked_df.to_csv(os.path.join(outpath,\"pythonOutput-\" + time.strftime(\"%Y%m%d-%H%M\") + \".csv\"), index=True, encoding='utf-8-sig')"
   ]
  },
  {
   "cell_type": "code",
   "execution_count": 108,
   "metadata": {},
   "outputs": [
    {
     "name": "stdout",
     "output_type": "stream",
     "text": [
      "65.70166182518005\n"
     ]
    }
   ],
   "source": [
    "end = time.time()\n",
    "print(end - start)"
   ]
  }
 ],
 "metadata": {
  "kernelspec": {
   "display_name": "Python 3",
   "language": "python",
   "name": "python3"
  },
  "language_info": {
   "codemirror_mode": {
    "name": "ipython",
    "version": 3
   },
   "file_extension": ".py",
   "mimetype": "text/x-python",
   "name": "python",
   "nbconvert_exporter": "python",
   "pygments_lexer": "ipython3",
   "version": "3.7.6"
  }
 },
 "nbformat": 4,
 "nbformat_minor": 4
}
