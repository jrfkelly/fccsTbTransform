{
 "cells": [
  {
   "cell_type": "code",
   "execution_count": 20,
   "metadata": {},
   "outputs": [],
   "source": [
    "#import modules:\n",
    "import pandas as pd\n",
    "#import numpy as np\n",
    "import glob, os, time"
   ]
  },
  {
   "cell_type": "code",
   "execution_count": 21,
   "metadata": {},
   "outputs": [],
   "source": [
    "#time the process\n",
    "start = time.time()"
   ]
  },
  {
   "cell_type": "code",
   "execution_count": 22,
   "metadata": {},
   "outputs": [
    {
     "data": {
      "text/plain": [
       "['C:\\\\Users\\\\kellyjo00\\\\Box\\\\FCCS Reporting\\\\Jul-20\\\\CSV TBs\\\\20200630_TB_Contribution_Pivot_EUR_FY19ALL-20200716-1255.csv',\n",
       " 'C:\\\\Users\\\\kellyjo00\\\\Box\\\\FCCS Reporting\\\\Jul-20\\\\CSV TBs\\\\20200630_TB_Contribution_Pivot_EUR_FY19_P0-20200716-1307.csv',\n",
       " 'C:\\\\Users\\\\kellyjo00\\\\Box\\\\FCCS Reporting\\\\Jul-20\\\\CSV TBs\\\\20200713_TB_Contribution_Pivot_EUR_FY20_P0-20200716-1308.csv',\n",
       " 'C:\\\\Users\\\\kellyjo00\\\\Box\\\\FCCS Reporting\\\\Jul-20\\\\CSV TBs\\\\20200713_TB_Contribution_Pivot_EUR_FY20_P1-P6-20200716-1255.csv']"
      ]
     },
     "execution_count": 22,
     "metadata": {},
     "output_type": "execute_result"
    }
   ],
   "source": [
    "#define variables - update these each month:\n",
    "inpath = (r'C:\\Users\\kellyjo00\\Box\\FCCS Reporting\\Jul-20\\CSV TBs')\n",
    "outpath = (r'C:\\Users\\kellyjo00\\Box\\FCCS Reporting\\Jul-20\\Python TBs')\n",
    "all_filenames = [i for i in glob.glob(os.path.join(inpath,\"*.csv\"))]\n",
    "all_filenames"
   ]
  },
  {
   "cell_type": "code",
   "execution_count": 23,
   "metadata": {},
   "outputs": [
    {
     "data": {
      "text/plain": [
       "(519906, 13)"
      ]
     },
     "execution_count": 23,
     "metadata": {},
     "output_type": "execute_result"
    }
   ],
   "source": [
    "#read csv files and create initial DataFrame\n",
    "df = pd.concat([pd.read_csv(f, \n",
    "                            header=0,\n",
    "                            engine='c',\n",
    "                            usecols=[0,1,2,5,7,8,9,10,11,12,13,14,17], \n",
    "                            names=['Years', 'Period','Entity','Account','Movement','Intercompany','Data Source','Project Code','Cost Center','Ref Code','Product Line','Functional Currency','3 Contribution EUR'],\n",
    "                            na_values=['-']\n",
    "                           ) for f in all_filenames], ignore_index=True)\n",
    "df.shape"
   ]
  },
  {
   "cell_type": "code",
   "execution_count": 24,
   "metadata": {},
   "outputs": [
    {
     "data": {
      "text/plain": [
       "(519906, 13)"
      ]
     },
     "execution_count": 24,
     "metadata": {},
     "output_type": "execute_result"
    }
   ],
   "source": [
    "# convert all '3 Contribution EUR' values to nunmeric - \"errors='coerce'\" converts non-numeric values to NaN\n",
    "try:\n",
    "    cols = ['3 Contribution EUR']\n",
    "    df[cols] = df[cols].apply(pd.to_numeric, errors='coerce', axis=1)\n",
    "except KeyError:\n",
    "    print(\"No non-numeric values found\")\n",
    "df.shape"
   ]
  },
  {
   "cell_type": "code",
   "execution_count": 25,
   "metadata": {},
   "outputs": [
    {
     "data": {
      "text/plain": [
       "(519906, 13)"
      ]
     },
     "execution_count": 25,
     "metadata": {},
     "output_type": "execute_result"
    }
   ],
   "source": [
    "#drop NaN values from '3 Contribution EUR'\n",
    "df = df.dropna(axis='rows')\n",
    "df.shape"
   ]
  },
  {
   "cell_type": "code",
   "execution_count": 26,
   "metadata": {},
   "outputs": [
    {
     "data": {
      "text/plain": [
       "(519906, 14)"
      ]
     },
     "execution_count": 26,
     "metadata": {},
     "output_type": "execute_result"
    }
   ],
   "source": [
    "#add 'Value' Column in order to create pivot table properly\n",
    "df['Value']='Balance'\n",
    "df.shape"
   ]
  },
  {
   "cell_type": "code",
   "execution_count": 27,
   "metadata": {},
   "outputs": [
    {
     "data": {
      "text/plain": [
       "(77618, 13)"
      ]
     },
     "execution_count": 27,
     "metadata": {},
     "output_type": "execute_result"
    }
   ],
   "source": [
    "#pivot the data in the previously created DataFrame by year and period (Consol DF)\n",
    "consol_df = df.pivot_table(\n",
    "    values='3 Contribution EUR', \n",
    "    index=['Years','Entity','Account','Movement','Intercompany','Data Source','Project Code','Cost Center','Ref Code','Product Line','Functional Currency'],\n",
    "    columns=['Value','Period'],\n",
    "    aggfunc='sum', fill_value=0)\n",
    "consol_df.shape\n",
    "#consol_df.to_csv(os.path.join(outpath,\"pythonOutput-\" + time.strftime(\"%Y%m%d-%H%M\") + \".csv\"), index=True, encoding='utf-8-sig')"
   ]
  },
  {
   "cell_type": "code",
   "execution_count": 28,
   "metadata": {},
   "outputs": [
    {
     "data": {
      "text/plain": [
       "(77618, 25)"
      ]
     },
     "execution_count": 28,
     "metadata": {},
     "output_type": "execute_result"
    }
   ],
   "source": [
    "#add the calculated movement columns\n",
    "consol_df['Movement','P1'] = (consol_df['Balance','P1'] - consol_df['Balance','P0'])\n",
    "consol_df['Movement','P2'] = (consol_df['Balance','P2'] - consol_df['Balance','P1'])\n",
    "consol_df['Movement','P3'] = (consol_df['Balance','P3'] - consol_df['Balance','P2'])\n",
    "consol_df['Movement','P4'] = (consol_df['Balance','P4'] - consol_df['Balance','P3'])\n",
    "consol_df['Movement','P5'] = (consol_df['Balance','P5'] - consol_df['Balance','P4'])\n",
    "consol_df['Movement','P6'] = (consol_df['Balance','P6'] - consol_df['Balance','P5'])\n",
    "consol_df['Movement','P7'] = (consol_df['Balance','P7'] - consol_df['Balance','P6'])\n",
    "consol_df['Movement','P8'] = (consol_df['Balance','P8'] - consol_df['Balance','P7'])\n",
    "consol_df['Movement','P9'] = (consol_df['Balance','P9'] - consol_df['Balance','P8'])\n",
    "consol_df['Movement','P10'] = (consol_df['Balance','P10'] - consol_df['Balance','P9'])\n",
    "consol_df['Movement','P11'] = (consol_df['Balance','P11'] - consol_df['Balance','P10'])\n",
    "consol_df['Movement','P12'] = (consol_df['Balance','P12'] - consol_df['Balance','P11'])\n",
    "\n",
    "consol_df.shape"
   ]
  },
  {
   "cell_type": "code",
   "execution_count": 29,
   "metadata": {},
   "outputs": [
    {
     "data": {
      "text/plain": [
       "(77618, 24)"
      ]
     },
     "execution_count": 29,
     "metadata": {},
     "output_type": "execute_result"
    }
   ],
   "source": [
    "#drop P0 from Balances\n",
    "consol_df.drop('P0', axis=1, level=1, inplace=True)\n",
    "consol_df.shape"
   ]
  },
  {
   "cell_type": "code",
   "execution_count": 30,
   "metadata": {},
   "outputs": [
    {
     "data": {
      "text/plain": [
       "(931416, 2)"
      ]
     },
     "execution_count": 30,
     "metadata": {},
     "output_type": "execute_result"
    }
   ],
   "source": [
    "#stack Periods\n",
    "stacked_df = consol_df.stack(1)\n",
    "stacked_df.shape"
   ]
  },
  {
   "cell_type": "code",
   "execution_count": 31,
   "metadata": {},
   "outputs": [],
   "source": [
    "#export to csv\n",
    "stacked_df.to_csv(os.path.join(outpath,\"pythonOutput-\" + time.strftime(\"%Y%m%d-%H%M\") + \".csv\"), index=True, encoding='utf-8-sig')"
   ]
  },
  {
   "cell_type": "code",
   "execution_count": 32,
   "metadata": {},
   "outputs": [
    {
     "name": "stdout",
     "output_type": "stream",
     "text": [
      "62.31866455078125\n"
     ]
    }
   ],
   "source": [
    "end = time.time()\n",
    "print(end - start)"
   ]
  }
 ],
 "metadata": {
  "kernelspec": {
   "display_name": "Python 3",
   "language": "python",
   "name": "python3"
  },
  "language_info": {
   "codemirror_mode": {
    "name": "ipython",
    "version": 3
   },
   "file_extension": ".py",
   "mimetype": "text/x-python",
   "name": "python",
   "nbconvert_exporter": "python",
   "pygments_lexer": "ipython3",
   "version": "3.7.6"
  }
 },
 "nbformat": 4,
 "nbformat_minor": 4
}
