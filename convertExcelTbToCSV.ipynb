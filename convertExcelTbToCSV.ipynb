{
 "cells": [
  {
   "cell_type": "code",
   "execution_count": 46,
   "metadata": {},
   "outputs": [],
   "source": [
    "import pandas as pd\n",
    "import pyinputplus as pyip\n",
    "import glob, os, time"
   ]
  },
  {
   "cell_type": "code",
   "execution_count": 47,
   "metadata": {},
   "outputs": [],
   "source": [
    "#time the process\n",
    "start = time.time()"
   ]
  },
  {
   "cell_type": "code",
   "execution_count": 48,
   "metadata": {},
   "outputs": [
    {
     "data": {
      "text/plain": [
       "['C:\\\\Users\\\\kellyjo00\\\\Box\\\\FCCS Reporting\\\\Jul-20\\\\Input TBs\\\\20200630_TB_Contribution_Pivot_EUR_FY19ALL.xlsx',\n",
       " 'C:\\\\Users\\\\kellyjo00\\\\Box\\\\FCCS Reporting\\\\Jul-20\\\\Input TBs\\\\20200713_TB_Contribution_Pivot_EUR_FY20_P1-P6.xlsx']"
      ]
     },
     "execution_count": 48,
     "metadata": {},
     "output_type": "execute_result"
    }
   ],
   "source": [
    "inpath = (r'C:\\Users\\kellyjo00\\Box\\FCCS Reporting\\Jul-20\\Input TBs')\n",
    "outpath = (r'C:\\Users\\kellyjo00\\Box\\FCCS Reporting\\Jul-20\\CSV TBs')\n",
    "\n",
    "all_filenames = [i for i in glob.glob(os.path.join(inpath,\"*.xlsx\"))]\n",
    "all_filenames"
   ]
  },
  {
   "cell_type": "code",
   "execution_count": 49,
   "metadata": {},
   "outputs": [
    {
     "name": "stdout",
     "output_type": "stream",
     "text": [
      "0: C:\\Users\\kellyjo00\\Box\\FCCS Reporting\\Jul-20\\Input TBs\\20200630_TB_Contribution_Pivot_EUR_FY19ALL.xlsx\n",
      "1: C:\\Users\\kellyjo00\\Box\\FCCS Reporting\\Jul-20\\Input TBs\\20200713_TB_Contribution_Pivot_EUR_FY20_P1-P6.xlsx\n",
      " \n",
      "Which file would you like to convert?1\n"
     ]
    }
   ],
   "source": [
    "i = 0\n",
    "for f in all_filenames:\n",
    "    print(str(i) + \": \" + f )\n",
    "    i = i+1\n",
    "print(' ')\n",
    "file = pyip.inputNum(prompt='Which file would you like to convert?', min=0, lessThan=i)"
   ]
  },
  {
   "cell_type": "code",
   "execution_count": 50,
   "metadata": {},
   "outputs": [
    {
     "name": "stdout",
     "output_type": "stream",
     "text": [
      "20200713_TB_Contribution_Pivot_EUR_FY20_P1-P6.xlsx\n",
      "20200713_TB_Contribution_Pivot_EUR_FY20_P1-P6\n"
     ]
    }
   ],
   "source": [
    "infile = os.path.basename(all_filenames[file])\n",
    "outfile = infile.replace(\".xlsx\", \"\")\n",
    "print(infile)\n",
    "print(outfile)"
   ]
  },
  {
   "cell_type": "code",
   "execution_count": 51,
   "metadata": {},
   "outputs": [],
   "source": [
    "df = pd.read_excel(all_filenames[file])\n",
    "\n",
    "#df.head(10)"
   ]
  },
  {
   "cell_type": "code",
   "execution_count": 52,
   "metadata": {},
   "outputs": [],
   "source": [
    "#export to csv\n",
    "df.to_csv(os.path.join(outpath,outfile + time.strftime(\"-%Y%m%d-%H%M\") + \".csv\"), index=True, encoding='utf-8-sig')"
   ]
  },
  {
   "cell_type": "code",
   "execution_count": 53,
   "metadata": {},
   "outputs": [
    {
     "name": "stdout",
     "output_type": "stream",
     "text": [
      "33.75450348854065\n"
     ]
    }
   ],
   "source": [
    "end = time.time()\n",
    "print(end - start)"
   ]
  }
 ],
 "metadata": {
  "kernelspec": {
   "display_name": "Python 3",
   "language": "python",
   "name": "python3"
  },
  "language_info": {
   "codemirror_mode": {
    "name": "ipython",
    "version": 3
   },
   "file_extension": ".py",
   "mimetype": "text/x-python",
   "name": "python",
   "nbconvert_exporter": "python",
   "pygments_lexer": "ipython3",
   "version": "3.7.6"
  }
 },
 "nbformat": 4,
 "nbformat_minor": 4
}
